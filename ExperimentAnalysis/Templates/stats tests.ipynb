{
 "cells": [
  {
   "cell_type": "code",
   "execution_count": 2,
   "metadata": {},
   "outputs": [],
   "source": [
    "import pandas as pd\n",
    "import numpy as np\n",
    "import scipy as sp\n",
    "from scipy import stats\n",
    "import boto3"
   ]
  },
  {
   "cell_type": "code",
   "execution_count": 3,
   "metadata": {},
   "outputs": [],
   "source": [
    "s3 = boto3.resource('s3')\n",
    "bucket = s3.Bucket('cnn-di-datsci-crosswalk-crosswalk-dev')\n",
    "prefix_objs = bucket.objects.filter(Prefix = \"KWU/TEST/HP_AUDIO_DW\") # your path\n",
    "\n",
    "bucket_name = 's3://cnn-di-datsci-crosswalk-crosswalk-dev/'\n",
    "\n",
    "df = pd.DataFrame()\n",
    "\n",
    "for obj in prefix_objs:\n",
    "    path = bucket_name + obj.key\n",
    "    prefix_df = pd.read_json(\n",
    "        path,\n",
    "        lines=True,\n",
    "        compression='gzip',\n",
    "        dtype = {'EX_GROUP': str, 'FEATURE': str, 'FEATURE_TYPE': str, 'VALUE': int, 'VISITOR_ID': str}\n",
    "    )\n",
    "    \n",
    "    df = pd.concat([df, prefix_df])"
   ]
  },
  {
   "cell_type": "code",
   "execution_count": 28,
   "metadata": {},
   "outputs": [
    {
     "name": "stdout",
     "output_type": "stream",
     "text": [
      "   ex_group                feature    control    variant    change  \\\n",
      "0   variant               pageview  12.547955  12.457546 -0.007205   \n",
      "1   variant       pageview_article   4.104796   4.049635 -0.013438   \n",
      "2   variant      pageview_homepage   6.386974   6.380561 -0.001004   \n",
      "3   variant     pageview_videoleaf   0.630884   0.616865 -0.022221   \n",
      "4   variant     pageview_livestory   0.087559   0.089400  0.021027   \n",
      "5   variant             videostart   3.095340   2.954452 -0.045516   \n",
      "6   variant     videostart_article   1.761502   1.645241 -0.066001   \n",
      "7   variant    videostart_homepage   0.000314   0.000576  0.835879   \n",
      "8   variant   videostart_videoleaf   0.445964   0.429560 -0.036785   \n",
      "9   variant   videostart_livestory   0.046056   0.043936 -0.046040   \n",
      "10  variant             audiostart   0.001102   0.005205  3.723779   \n",
      "11  variant  timespent_per_session   2.889143   2.811703 -0.026804   \n",
      "12  variant     timespent_homepage   2.995812   3.016499  0.006905   \n",
      "\n",
      "   significant       p_value  \n",
      "0        False  1.669907e-01  \n",
      "1         True  8.342554e-03  \n",
      "2        False  8.801866e-01  \n",
      "3         True  4.438828e-03  \n",
      "4        False  2.836758e-01  \n",
      "5         True  2.811885e-03  \n",
      "6         True  2.501759e-04  \n",
      "7         True  3.702692e-02  \n",
      "8        False  1.117141e-01  \n",
      "9        False  5.260477e-01  \n",
      "10        True  4.808091e-39  \n",
      "11        True  2.633672e-03  \n",
      "12       False  6.561472e-01  \n"
     ]
    }
   ],
   "source": [
    "# initialize\n",
    "out = pd.DataFrame({'ex_group': pd.Series(dtype = 'str'),\n",
    "                    'feature': pd.Series(dtype='str'),\n",
    "                    'control': pd.Series(dtype='float'),\n",
    "                    'variant': pd.Series(dtype='float'),\n",
    "                    'change': pd.Series(dtype='float'),\n",
    "                    'significant': pd.Series(dtype='str'),\n",
    "                    'p_value': pd.Series(dtype='float')})\n",
    "\n",
    "# queue\n",
    "control = 'control'\n",
    "variants = df[df['EX_GROUP'] != 'control']['EX_GROUP'].unique().tolist()\n",
    "features = df['FEATURE'].unique().tolist()\n",
    "\n",
    "for feature in features:\n",
    "    \n",
    "    for variant in variants:\n",
    "  \n",
    "        # feature value\n",
    "        x = df[df['FEATURE'] == feature]\n",
    "        feature_type = x['FEATURE_TYPE'].unique().tolist()\n",
    "\n",
    "        variant_values = x[x['EX_GROUP'] == variant]['VALUE']\n",
    "        control_values = x[x['EX_GROUP'] == control]['VALUE']\n",
    "\n",
    "        # group average\n",
    "        variant_stat = np.nanmean(variant_values)\n",
    "        control_stat = np.nanmean(control_values)\n",
    "      \n",
    "   \n",
    "        # nominal feature\n",
    "        if feature_type == 'nominal':\n",
    "  \n",
    "            # compare\n",
    "            change = ((variant_stat - control_stat) / control_stat)\n",
    "            values = x.filter((x.EX_GROUP == variant) | (x.EX_GROUP == control)).toPandas()\n",
    "            contigency = pd.crosstab(values['EX_GROUP'], values['VALUE'])\n",
    "            stat, p, dof, ex = stats.chi2_contingency(contigency)\n",
    "            sig = p <= 0.05\n",
    "\n",
    "            # result\n",
    "            row = pd.Series([variant, feature, control_stat, variant_stat, change, sig, p], index = out.columns)\n",
    "            out = out.append(row, ignore_index=True)\n",
    "    \n",
    "        # continuous feature\n",
    "        else:\n",
    "      \n",
    "            # compare\n",
    "            change = ((variant_stat - control_stat) / control_stat)\n",
    "            t, p = stats.ttest_ind(control_values, variant_values)\n",
    "            sig = p <= 0.05\n",
    "      \n",
    "            # result\n",
    "            row = pd.Series([variant, feature, control_stat, variant_stat, change, sig, p], index = out.columns)\n",
    "            out = out.append(row, ignore_index=True)\n",
    "\n",
    "\n",
    "print(out)"
   ]
  },
  {
   "cell_type": "code",
   "execution_count": 30,
   "metadata": {},
   "outputs": [],
   "source": [
    "file_name = 'HP_AUDIO_DW_RESULTS.csv'\n",
    "out.to_csv(file_name)\n",
    "\n",
    "# s3.meta.client.upload_file(file_name, 'cnn-di-datsci-crosswalk-crosswalk-dev', 'KWU/TEST/HP_AUDIO_DW_RESULTS.csv')"
   ]
  },
  {
   "cell_type": "code",
   "execution_count": null,
   "metadata": {},
   "outputs": [],
   "source": []
  }
 ],
 "metadata": {
  "kernelspec": {
   "display_name": "Python 3 (Data Science)",
   "language": "python",
   "name": "python3__SAGEMAKER_INTERNAL__arn:aws:sagemaker:us-east-2:429704687514:image/datascience-1.0"
  },
  "language_info": {
   "codemirror_mode": {
    "name": "ipython",
    "version": 3
   },
   "file_extension": ".py",
   "mimetype": "text/x-python",
   "name": "python",
   "nbconvert_exporter": "python",
   "pygments_lexer": "ipython3",
   "version": "3.7.10"
  }
 },
 "nbformat": 4,
 "nbformat_minor": 4
}
